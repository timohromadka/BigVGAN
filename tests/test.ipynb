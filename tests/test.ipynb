{
 "cells": [
  {
   "cell_type": "markdown",
   "metadata": {},
   "source": [
    "### Convert Mel-Spec"
   ]
  },
  {
   "cell_type": "code",
   "execution_count": 2,
   "metadata": {},
   "outputs": [
    {
     "name": "stderr",
     "output_type": "stream",
     "text": [
      "100%|██████████| 656/656 [00:31<00:00, 20.94it/s]"
     ]
    },
    {
     "name": "stdout",
     "output_type": "stream",
     "text": [
      "Conversion complete! All .npy files saved.\n"
     ]
    },
    {
     "name": "stderr",
     "output_type": "stream",
     "text": [
      "\n"
     ]
    }
   ],
   "source": [
    "import os\n",
    "import numpy as np\n",
    "from tqdm import tqdm\n",
    "from PIL import Image\n",
    "\n",
    "# Input and output directories\n",
    "input_dir = \"../test/mel_specs/images/sch_ddpm_nisteps_1000\"\n",
    "output_dir = \"../test/mel_specs/npy_images\"\n",
    "\n",
    "# Create output directory if it doesn't exist\n",
    "os.makedirs(output_dir, exist_ok=True)\n",
    "\n",
    "# Loop through PNG files in the input directory\n",
    "for filename in tqdm(os.listdir(input_dir)):\n",
    "    if filename.endswith(\".png\"):  # Process only PNG files\n",
    "        # Load image as grayscale\n",
    "        img_path = os.path.join(input_dir, filename)\n",
    "        img = Image.open(img_path).convert(\"L\")\n",
    "        \n",
    "        # Convert image to a NumPy array and normalize to range [0, 1]\n",
    "        img_array = np.array(img, dtype=np.float32) / 255.0\n",
    "        \n",
    "        # Save the array as a .npy file\n",
    "        npy_filename = os.path.splitext(filename)[0] + \".npy\"\n",
    "        np.save(os.path.join(output_dir, npy_filename), img_array)\n",
    "\n",
    "print(\"Conversion complete! All .npy files saved.\")\n"
   ]
  },
  {
   "cell_type": "markdown",
   "metadata": {},
   "source": [
    "### Split SSD dataset into train/val/test"
   ]
  },
  {
   "cell_type": "code",
   "execution_count": 1,
   "metadata": {},
   "outputs": [
    {
     "data": {
      "text/plain": [
       "(10333, 574, 575)"
      ]
     },
     "execution_count": 1,
     "metadata": {},
     "output_type": "execute_result"
    }
   ],
   "source": [
    "import os\n",
    "import random\n",
    "import shutil\n",
    "\n",
    "source_dir = \"../cache/spotify_sleep_dataset\"\n",
    "train_dir = os.path.join(source_dir, \"train\")\n",
    "val_dir = os.path.join(source_dir, \"val\")\n",
    "test_dir = os.path.join(source_dir, \"test\")\n",
    "\n",
    "os.makedirs(train_dir, exist_ok=True)\n",
    "os.makedirs(val_dir, exist_ok=True)\n",
    "os.makedirs(test_dir, exist_ok=True)\n",
    "\n",
    "wav_files = [f for f in os.listdir(source_dir) if f.endswith(\".wav\")]\n",
    "\n",
    "random.shuffle(wav_files)\n",
    "\n",
    "total_files = len(wav_files)\n",
    "train_split = int(total_files * 0.9)\n",
    "val_split = int(total_files * 0.95)\n",
    "\n",
    "train_files = wav_files[:train_split]\n",
    "val_files = wav_files[train_split:val_split]\n",
    "test_files = wav_files[val_split:]\n",
    "\n",
    "for f in train_files:\n",
    "    shutil.move(os.path.join(source_dir, f), train_dir)\n",
    "\n",
    "for f in val_files:\n",
    "    shutil.move(os.path.join(source_dir, f), val_dir)\n",
    "\n",
    "for f in test_files:\n",
    "    shutil.move(os.path.join(source_dir, f), test_dir)\n",
    "\n",
    "len_train = len(os.listdir(train_dir))\n",
    "len_val = len(os.listdir(val_dir))\n",
    "len_test = len(os.listdir(test_dir))\n",
    "\n",
    "len_train, len_val, len_test"
   ]
  },
  {
   "cell_type": "code",
   "execution_count": null,
   "metadata": {},
   "outputs": [],
   "source": []
  }
 ],
 "metadata": {
  "kernelspec": {
   "display_name": "bigvgan",
   "language": "python",
   "name": "python3"
  },
  "language_info": {
   "codemirror_mode": {
    "name": "ipython",
    "version": 3
   },
   "file_extension": ".py",
   "mimetype": "text/x-python",
   "name": "python",
   "nbconvert_exporter": "python",
   "pygments_lexer": "ipython3",
   "version": "3.10.15"
  }
 },
 "nbformat": 4,
 "nbformat_minor": 2
}
